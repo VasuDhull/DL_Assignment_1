{
  "nbformat": 4,
  "nbformat_minor": 0,
  "metadata": {
    "colab": {
      "provenance": []
    },
    "kernelspec": {
      "name": "python3",
      "display_name": "Python 3"
    },
    "language_info": {
      "name": "python"
    }
  },
  "cells": [
    {
      "cell_type": "code",
      "execution_count": 2,
      "metadata": {
        "colab": {
          "base_uri": "https://localhost:8080/"
        },
        "id": "bBuvFw-oyQB6",
        "outputId": "0373eb6a-c250-4ec6-c489-10f6960b37df"
      },
      "outputs": [
        {
          "output_type": "stream",
          "name": "stdout",
          "text": [
            "Epoch 1/5\n",
            "657/657 [==============================] - 4s 5ms/step - loss: 2.0836 - accuracy: 0.4032 - val_loss: 1.6456 - val_accuracy: 0.6702\n",
            "Epoch 2/5\n",
            "657/657 [==============================] - 4s 6ms/step - loss: 1.1095 - accuracy: 0.7283 - val_loss: 0.7832 - val_accuracy: 0.7907\n",
            "Epoch 3/5\n",
            "657/657 [==============================] - 3s 5ms/step - loss: 0.6446 - accuracy: 0.8257 - val_loss: 0.5544 - val_accuracy: 0.8503\n",
            "Epoch 4/5\n",
            "657/657 [==============================] - 3s 5ms/step - loss: 0.4901 - accuracy: 0.8663 - val_loss: 0.4521 - val_accuracy: 0.8741\n",
            "Epoch 5/5\n",
            "657/657 [==============================] - 3s 4ms/step - loss: 0.4162 - accuracy: 0.8837 - val_loss: 0.4024 - val_accuracy: 0.8872\n",
            "313/313 [==============================] - 1s 2ms/step - loss: 0.3804 - accuracy: 0.8953\n",
            "Test accuracy: 0.8952999711036682\n"
          ]
        }
      ],
      "source": [
        "import tensorflow as tf\n",
        "from tensorflow.keras import layers, models\n",
        "from tensorflow.keras.datasets import mnist\n",
        "from sklearn.model_selection import train_test_split\n",
        "\n",
        "(X_train, y_train), (X_test, y_test) = mnist.load_data()\n",
        "X_train, X_test = X_train / 255.0, X_test / 255.0\n",
        "\n",
        "# Flatten the images\n",
        "X_train_flat = X_train.reshape((X_train.shape[0], -1))\n",
        "X_test_flat = X_test.reshape((X_test.shape[0], -1))\n",
        "\n",
        "X_train_flat, X_val_flat, y_train, y_val = train_test_split(X_train_flat, y_train, test_size=0.3)\n",
        "\n",
        "model = models.Sequential([\n",
        "    layers.Dense(64, activation='relu', input_shape=(784,)),\n",
        "    layers.Dense(128, activation='sigmoid'),\n",
        "    layers.Dense(256, activation='tanh'),\n",
        "    layers.Dense(10, activation='softmax')\n",
        "])\n",
        "\n",
        "model.compile(optimizer='sgd', # Stochastic Gradient Descent (SGD)\n",
        "              loss='sparse_categorical_crossentropy',\n",
        "              metrics=['accuracy'])\n",
        "\n",
        "history = model.fit(X_train_flat, y_train, epochs=5, batch_size=64, validation_data=(X_val_flat, y_val))\n",
        "\n",
        "test_loss, test_acc = model.evaluate(X_test_flat, y_test)\n",
        "print(f'Test accuracy: {test_acc}')\n"
      ]
    },
    {
      "cell_type": "code",
      "source": [],
      "metadata": {
        "id": "kDQivIXZyepZ"
      },
      "execution_count": null,
      "outputs": []
    }
  ]
}