{
  "nbformat": 4,
  "nbformat_minor": 0,
  "metadata": {
    "colab": {
      "provenance": [],
      "gpuType": "T4"
    },
    "kernelspec": {
      "name": "python3",
      "display_name": "Python 3"
    },
    "language_info": {
      "name": "python"
    },
    "accelerator": "GPU"
  },
  "cells": [
    {
      "cell_type": "code",
      "execution_count": 1,
      "metadata": {
        "colab": {
          "base_uri": "https://localhost:8080/"
        },
        "id": "GzKYkRwpudXg",
        "outputId": "fd9d80d4-6351-4f3c-c562-7d8bc0fb401d"
      },
      "outputs": [
        {
          "output_type": "stream",
          "name": "stdout",
          "text": [
            "Downloading http://ufldl.stanford.edu/housenumbers/train_32x32.mat to ./data/train_32x32.mat\n"
          ]
        },
        {
          "output_type": "stream",
          "name": "stderr",
          "text": [
            "100%|██████████| 182040794/182040794 [00:07<00:00, 24115716.56it/s]\n"
          ]
        },
        {
          "output_type": "stream",
          "name": "stdout",
          "text": [
            "Downloading http://ufldl.stanford.edu/housenumbers/test_32x32.mat to ./data/test_32x32.mat\n"
          ]
        },
        {
          "output_type": "stream",
          "name": "stderr",
          "text": [
            "100%|██████████| 64275384/64275384 [00:05<00:00, 12816400.60it/s]\n"
          ]
        },
        {
          "output_type": "stream",
          "name": "stdout",
          "text": [
            "AlexNet - Epoch 1, Loss: 9.862793192636082e+19\n",
            "AlexNet - test set accuracy: 19.60%\n",
            "VGG-11 - Epoch 1, Loss: 2.060909019201825e+29\n",
            "VGG-11 - test set accuracy: 16.02%\n",
            "ResNet-18 - Epoch 1, Loss: 7.016036528743518\n",
            "ResNet-18 - test set accuracy: 16.02%\n"
          ]
        }
      ],
      "source": [
        "import torch\n",
        "import torch.nn as nn\n",
        "import torch.optim as optim\n",
        "from torchvision import datasets, transforms, models\n",
        "from torch.utils.data import DataLoader, random_split\n",
        "\n",
        "transform = transforms.Compose([\n",
        "    transforms.Resize((64, 64)),\n",
        "    transforms.ToTensor(),\n",
        "    transforms.Normalize(mean=[0.485, 0.456, 0.406], std=[0.229, 0.224, 0.225]),\n",
        "])\n",
        "\n",
        "# Loading dataset with transformation\n",
        "svhn_train_full = datasets.SVHN(root='./data', split='train', download=True, transform=transform)\n",
        "svhn_test_full = datasets.SVHN(root='./data', split='test', download=True, transform=transform)\n",
        "\n",
        "subset_size = int(0.25 * len(svhn_train_full))\n",
        "\n",
        "svhn_train_subset, _ = random_split(svhn_train_full, [subset_size, len(svhn_train_full) - subset_size])\n",
        "svhn_test_subset, _ = random_split(svhn_test_full, [subset_size, len(svhn_test_full) - subset_size])\n",
        "\n",
        "models_dict = {\n",
        "    'AlexNet': models.alexnet(),\n",
        "    'VGG-11': models.vgg11(),\n",
        "    'ResNet-18': models.resnet18(),\n",
        "}\n",
        "\n",
        "train_loader = DataLoader(svhn_train_subset, batch_size=64, shuffle=True)\n",
        "test_loader = DataLoader(svhn_test_subset, batch_size=64, shuffle=False)\n",
        "\n",
        "for model_name, model in models_dict.items():\n",
        "\n",
        "    if 'resnet' in model_name.lower():\n",
        "        num_ftrs = model.fc.in_features\n",
        "        model.fc = nn.Linear(num_ftrs, 10)\n",
        "    else:\n",
        "        num_ftrs = model.classifier[-1].in_features\n",
        "        model.classifier[-1] = nn.Linear(num_ftrs, 10)\n",
        "\n",
        "    criterion = nn.CrossEntropyLoss()\n",
        "    optimizer = optim.Adam(model.parameters(), lr=0.99)\n",
        "    num_epochs = 1\n",
        "\n",
        "    device = torch.device(\"cuda\" if torch.cuda.is_available() else \"cpu\")\n",
        "    model.to(device)\n",
        "\n",
        "    for epoch in range(num_epochs):\n",
        "        model.train()\n",
        "        running_loss = 0.0\n",
        "\n",
        "        for inputs, labels in train_loader:\n",
        "            inputs, labels = inputs.to(device), labels.to(device)\n",
        "            optimizer.zero_grad()\n",
        "            outputs = model(inputs)\n",
        "            loss = criterion(outputs, labels)\n",
        "            loss.backward()\n",
        "            optimizer.step()\n",
        "            running_loss += loss.item()\n",
        "\n",
        "        print(f\"{model_name} - Epoch {epoch+1}, Loss: {running_loss/len(train_loader)}\")\n",
        "\n",
        "    model.eval()\n",
        "    correct = 0\n",
        "    total = 0\n",
        "    with torch.no_grad():\n",
        "        for inputs, labels in test_loader:\n",
        "            inputs, labels = inputs.to(device), labels.to(device)\n",
        "            outputs = model(inputs)\n",
        "            _, predicted = torch.max(outputs.data, 1)\n",
        "            total += labels.size(0)\n",
        "            correct += (predicted == labels).sum().item()\n",
        "\n",
        "    print(f\"{model_name} - test set accuracy: {(correct/total)*100:.2f}%\")"
      ]
    },
    {
      "cell_type": "code",
      "source": [],
      "metadata": {
        "id": "HgX7ADzquijV"
      },
      "execution_count": null,
      "outputs": []
    }
  ]
}